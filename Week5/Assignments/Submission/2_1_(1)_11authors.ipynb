{
 "cells": [
  {
   "cell_type": "markdown",
   "metadata": {
    "collapsed": true
   },
   "source": [
    "## Sam \n",
    "岭回归和lasso回归都可以看成是普通最小二乘法回归加上特定约束的求解形式。岭回归的约束是所有回归系数的平方之和小于参数lamda，而lasso回归需要所有回归系数的绝对值之和小于参数lamda。在参数lamda足够小的时候，lasso回归所得到的系数中的一部分非重要参数值会被压缩至0，使得我们能够更好地理解数据，但是lasso回归也极大地增加了计算复杂度。  \n",
    "\n",
    "## 脸红因为风太烫 \n",
    "岭回归与Lasso回归的出现是为了解决线性回归出现的过拟合以及在通过正规方程方法求解θ的过程中出现的x转置乘以x不可逆这两类问题的，这两种回归均通过在损失函数中引入正则化项来达到目的，岭回归与Lasso回归最大的区别在于岭回归引入的是L2范数惩罚项，Lasso回归引入的是L1范数惩罚项，Lasso回归能够使得损失函数中的许多θ均变成0，这点要优于岭回归，因为岭回归是要所有的θ均存在的，这样计算量Lasso回归将远远小于岭回归。   \n",
    "\n",
    "## 卫九 \n",
    "岭回归与Lasso回归最大的区别在于岭回归引入的是L2范数惩罚项，Lasso回归引入的是L1范数惩罚项，Lasso回归能够使得损失函数中的许多θ均变成0，这点要优于岭回归，因为岭回归是要所有的θ均存在的，这样计算量Lasso回归将远远小于岭回归。   \n",
    "\n",
    "## Mr.孙   \n",
    "lasso回归与岭回归非常类似，不同的是求解回归系数的目标函数中使用的惩罚函数是L1范数。  \n",
    "\n",
    "\n",
    "## 星空 \n",
    "岭回归是用L2正则化，Lasso是用L1正则化，L1有稀疏权重的作用，使某些输入的权重为0，适用于有很多输入特征不起作用的情况。  \n",
    "\n",
    "## kyuer  \n",
    "岭回归和lasso回归是为了解决线性回归出现的过拟合现象以及在正则化求theta中出现x转置乘x不可逆。  \n",
    "岭回归引入l2惩罚项，lasso回归引入l1惩罚项，lasso使损失函数许多theta变为0，岭回归所以theta都存在。  \n",
    "\n",
    "## 、暖心向阳 \n",
    "lasso回归的约束条件使用绝对值取代平方和。在给定阈值足够小的情况下，lasso回归的一些系数会因此迫缩减到0. Lasso回归最终会趋于一条直线，原因就在于好多θ值已经均为0，而岭回归却有一定平滑度，因为所有的θ值均存在。  \n",
    "\n",
    "## 苗磊_0123 \n",
    "岭回归与Lasso回归最大的区别在于岭回归引入的是L2范数惩罚项，Lasso回归引入的是L1范数惩罚项，Lasso回归能够使得损失函数中的许多θ均变成0，这点要优于岭回归，因为岭回归是要所有的θ均存在的，这样计算量Lasso回归将远远小于岭回归。    \n",
    "\n",
    "## 安振宇 \n",
    "岭回归与lasso回归都是回归算法，其在数学上都可以写为最优化问题，二者优化函数均为误差函数的l2范数，但约束条件不同，岭回归的约束条件是权重函数的2范数最小，lasso约束条件是1范数最小；在优化表达式求解上，岭回归可以写成封闭解形式，lasso最优解则只能通过迭代方式逐步逼近。  \n",
    "\n",
    "## JaAson \n",
    "岭回归：  \n",
    "在线性回归的基础上，为了解决样本数少于特征数的问题，提出的。加上lambda*I这一项，使得矩阵可逆。另外取得合适的lambda值，可以解决过拟合的问题。  \n",
    "Lasso：  \n",
    "采用一范数，可以将无用的参数减为0，提取有用的特征。但是一阶范数不连续可导，计算起来繁琐。可以用逐步前向法逼近Lasso的结果。  \n",
    "\n",
    "## dzysunshin... \n",
    "岭回归与Lasso回归最大的区别在于岭回归引入的是L2范数惩罚项，Lasso回归引入的是L1范数惩罚项，Lasso回归能够使得损失函数中的许多θ均变成0，这点要优于岭回归，因为岭回归是要所有的θ均存在的，这样计算量Lasso回归将远远小于岭回归。 Lasso回归最终会趋于一条直线，原因就在于好多θ值已经均为0，而岭回归却有一定平滑度，因为所有的θ值均存在。  \n",
    "\n",
    "\n",
    "\n",
    "\n",
    "\n",
    "\n"
   ]
  },
  {
   "cell_type": "code",
   "execution_count": null,
   "metadata": {},
   "outputs": [],
   "source": []
  }
 ],
 "metadata": {
  "kernelspec": {
   "display_name": "Python 3",
   "language": "python",
   "name": "python3"
  },
  "language_info": {
   "codemirror_mode": {
    "name": "ipython",
    "version": 3
   },
   "file_extension": ".py",
   "mimetype": "text/x-python",
   "name": "python",
   "nbconvert_exporter": "python",
   "pygments_lexer": "ipython3",
   "version": "3.6.5"
  },
  "toc": {
   "base_numbering": 1,
   "nav_menu": {},
   "number_sections": true,
   "sideBar": true,
   "skip_h1_title": false,
   "title_cell": "Table of Contents",
   "title_sidebar": "Contents",
   "toc_cell": false,
   "toc_position": {},
   "toc_section_display": true,
   "toc_window_display": false
  }
 },
 "nbformat": 4,
 "nbformat_minor": 2
}
