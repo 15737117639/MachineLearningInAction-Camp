{
 "cells": [
  {
   "cell_type": "markdown",
   "metadata": {},
   "source": [
    "__title__      = ML in Action Chapter8 Code（预测鲍鱼年龄）\n",
    "__author__     = wgj\n",
    "__createDate__ = 2018-11-03 21:20:19"
   ]
  },
  {
   "cell_type": "code",
   "execution_count": 31,
   "metadata": {},
   "outputs": [],
   "source": [
    "from numpy import *\n",
    "import matplotlib.pyplot as plt\n",
    "\n",
    "\"\"\" 加载数据集 \"\"\"\n",
    "def loadDataSet(fileName): \n",
    "    numFeat = len(open(fileName).readline().split('\\t')) - 1 #  数据集列数（末列为真值）\n",
    "    dataMat = []; labelMat = []\n",
    "    fr = open(fileName)\n",
    "    for line in fr.readlines():\n",
    "        lineArr =[]                                                 # 保存一行训练数据\n",
    "        curLine = line.strip().split('\\t')                # 移除每行首尾空格并用tab分割数据\n",
    "        for i in range(numFeat):                        # 遍历所有列\n",
    "            lineArr.append(float(curLine[i]))\n",
    "        dataMat.append(lineArr)\n",
    "        labelMat.append(float(curLine[-1]))\n",
    "    return dataMat,labelMat\n",
    "\n",
    "\"\"\" 标准线性回归 \"\"\"\n",
    "def standRegres(xArr,yArr):\n",
    "    \"\"\" \n",
    "    输入：1、xArr——输入变量\n",
    "                2、yArr——目标值\n",
    "    输出：ws——回归系数\n",
    "    \"\"\"\n",
    "    xMat = mat(xArr); yMat = mat(yArr).T\n",
    "    xTx = xMat.T*xMat\n",
    "    if linalg.det(xTx) == 0.0:\n",
    "        print(\"This matrix is singular, cannot do inverse\")\n",
    "        return\n",
    "    ws = xTx.I * (xMat.T*yMat)\n",
    "    return ws\n",
    "\n",
    "\"\"\" 局部加权线性回归 \"\"\"\n",
    "def lwlr(testPoint,xArr,yArr,k=1.0):\n",
    "    \"\"\" \n",
    "    输入：1、testPoint——测试点\n",
    "                2、xArr——输入变量\n",
    "                3、yArr——目标值\n",
    "                4、k——权值\n",
    "    输出：testPoint * ws——预测结果\n",
    "    \"\"\"\n",
    "    xMat = mat(xArr); yMat = mat(yArr).T\n",
    "    m = shape(xMat)[0]\n",
    "    weights = mat(eye((m)))                  # 创建对角矩阵\n",
    "    for j in range(m):                             # 计算高斯核对应的权重\n",
    "        diffMat = testPoint - xMat[j,:] \n",
    "        weights[j,j] = exp(diffMat*diffMat.T/(-2.0*k**2))\n",
    "    xTx = xMat.T * (weights * xMat)\n",
    "    if linalg.det(xTx) == 0.0:\n",
    "        print(\"This matrix is singular, cannot do inverse\")\n",
    "        return\n",
    "    ws = xTx.I * (xMat.T * (weights * yMat))\n",
    "    return testPoint * ws\n",
    "\n",
    "\"\"\" 逐点调用lwlr() \"\"\"\n",
    "def lwlrTest(testArr,xArr,yArr,k=1.0): \n",
    "    \"\"\" \n",
    "    输入：1、testArr——测试点集合\n",
    "                2、xArr——输入变量\n",
    "                3、yArr——目标值\n",
    "                4、k——权值\n",
    "    输出：yHat——预测结果\n",
    "    \"\"\"\n",
    "    m = shape(testArr)[0]\n",
    "    yHat = zeros(m)\n",
    "    for i in range(m):\n",
    "        yHat[i] = lwlr(testArr[i],xArr,yArr,k)\n",
    "    return yHat\n",
    "\n",
    "\"\"\" 计算回归误差（平方和）\"\"\"\n",
    "def rssError(yArr,yHatArr): \n",
    "    \"\"\" \n",
    "    输入：1、yArr——目标值\n",
    "                2、yHatArr——预测结果\n",
    "                （计算元素平方，输入需均为arrays类型）\n",
    "    输出：回归误差\n",
    "    \"\"\"\n",
    "    return ((yArr-yHatArr)**2).sum()"
   ]
  },
  {
   "cell_type": "markdown",
   "metadata": {},
   "source": [
    "测试局部加权线性回归"
   ]
  },
  {
   "cell_type": "code",
   "execution_count": 5,
   "metadata": {},
   "outputs": [
    {
     "data": {
      "image/png": "[encoded data removed]",
      "text/plain": [
       "<Figure size 432x288 with 1 Axes>"
      ]
     },
     "metadata": {
      "needs_background": "light"
     },
     "output_type": "display_data"
    }
   ],
   "source": [
    "xArr, yArr = loadDataSet('ex0.txt')\n",
    "yHat = lwlrTest(xArr, xArr, yArr,0.01)\n",
    "xMat = mat(xArr)\n",
    "srtInd = xMat[:,1].argsort(0)   # 对输入变量按照第2列升序排列\n",
    "xSort = xMat[srtInd][:,0,:]\n",
    "\n",
    "\"\"\" 绘制图形 \"\"\"\n",
    "fig = plt.figure()\n",
    "ax = fig.add_subplot(111)\n",
    "ax.plot(xSort[:,1], yHat[srtInd])   # 拟合曲线\n",
    "ax.scatter(xMat[:,1].flatten().A[0], mat(yArr).T.flatten().A[0], s=2, c='red')   # 原始数据点\n",
    "plt.show()"
   ]
  },
  {
   "cell_type": "markdown",
   "metadata": {},
   "source": [
    "岭回归算法"
   ]
  },
  {
   "cell_type": "code",
   "execution_count": 2,
   "metadata": {},
   "outputs": [],
   "source": [
    "\"\"\" 岭回归算法 \"\"\"\n",
    "def ridgeRegres(xMat,yMat,lam=0.2):\n",
    "    \"\"\" \n",
    "    输入：1、xMat——输入变量\n",
    "                2、yMat——目标值\n",
    "                3、lam——系数\n",
    "    输出：ws——回归系数\n",
    "    \"\"\"\n",
    "    xTx = xMat.T*xMat\n",
    "    denom = xTx + eye(shape(xMat)[1])*lam\n",
    "    if linalg.det(denom) == 0.0:\n",
    "        print(\"This matrix is singular, cannot do inverse\")\n",
    "        return\n",
    "    ws = denom.I * (xMat.T*yMat)\n",
    "    return ws\n",
    "\n",
    "\"\"\" 在1组lam上进行岭回归测试 \"\"\"\n",
    "def ridgeTest(xArr,yArr):\n",
    "    \"\"\" \n",
    "    输入：1、xArr——输入变量\n",
    "                2、yArr——目标值\n",
    "    输出：wMat——回归系数\n",
    "    \"\"\"\n",
    "    xMat = mat(xArr); yMat=mat(yArr).T\n",
    "    yMean = mean(yMat,0)\n",
    "    yMat = yMat - yMean     #to eliminate X0 take mean off of Y\n",
    "    # 正则化X（减均值，再除以方差）\n",
    "    xMeans = mean(xMat,0)   # 按列计算均值\n",
    "    xVar = var(xMat,0)              # 按列计算方差\n",
    "    xMat = (xMat - xMeans)/xVar\n",
    "    numTestPts = 30                # 测试次数\n",
    "    wMat = zeros((numTestPts,shape(xMat)[1]))    # 回归系数矩阵（1行代表1组系数）\n",
    "    for i in range(numTestPts):     # 每次变更lambda\n",
    "        ws = ridgeRegres(xMat,yMat,exp(i-10))\n",
    "        wMat[i,:]=ws.T\n",
    "    return wMat"
   ]
  },
  {
   "cell_type": "markdown",
   "metadata": {},
   "source": [
    "在鲍鱼数据集上测试岭回归算法"
   ]
  },
  {
   "cell_type": "code",
   "execution_count": 13,
   "metadata": {},
   "outputs": [
    {
     "data": {
      "image/png": "[encoded data removed]",
      "text/plain": [
       "<Figure size 432x288 with 1 Axes>"
      ]
     },
     "metadata": {
      "needs_background": "light"
     },
     "output_type": "display_data"
    }
   ],
   "source": [
    "xArr, yArr = loadDataSet('abalone.txt')\n",
    "ridgeWeights = ridgeTest(xArr, yArr)       # 岭回归算法计算出的系数\n",
    "\n",
    "\"\"\" 绘制图形 \"\"\"\n",
    "fig = plt.figure()\n",
    "ax = fig.add_subplot(111)\n",
    "ax.plot(ridgeWeights)   # 回归系数曲线\n",
    "plt.show()\n"
   ]
  },
  {
   "cell_type": "markdown",
   "metadata": {},
   "source": [
    "前向逐步线性回归"
   ]
  },
  {
   "cell_type": "code",
   "execution_count": 28,
   "metadata": {},
   "outputs": [],
   "source": [
    "\"\"\" 按列正则化 \"\"\"\n",
    "def regularize(xMat):\n",
    "    \"\"\" \n",
    "    输入：xMat——输入变量\n",
    "    输出：inMat——正则化结果\n",
    "    \"\"\"\n",
    "    inMat = xMat.copy()\n",
    "    inMeans = mean(inMat,0)   # 按列计算均值\n",
    "    inVar = var(inMat,0)             # 按列计算方差\n",
    "    inMat = (inMat - inMeans)/inVar\n",
    "    return inMat\n",
    "\n",
    "\"\"\" 前向逐步线性回归 \"\"\"\n",
    "def stageWise(xArr,yArr,eps=0.01,numIt=100):\n",
    "    \"\"\" \n",
    "    输入：1、xArr——输入变量\n",
    "                2、yArr——目标值\n",
    "                3、eps——系数变化量（步长）\n",
    "                4、numIt——迭代次数\n",
    "    输出：ws——回归系数\n",
    "    \"\"\"\n",
    "    xMat = mat(xArr); yMat=mat(yArr).T\n",
    "    yMean = mean(yMat,0)\n",
    "    yMat = yMat - yMean\n",
    "    xMat = regularize(xMat)      # 正则化输入变量（满足0均值和单位方差）\n",
    "    m,n=shape(xMat)\n",
    "    ws = zeros((n,1)); wsTest = ws.copy(); wsMax = ws.copy()   # 初始化所有系数为1\n",
    "    for i in range(numIt):\n",
    "#         print(ws.T)\n",
    "        lowestError = inf;         # 每轮迭代设置当前最小误差为正无穷\n",
    "        for j in range(n):          # 遍历每个特征\n",
    "            for sign in [-1,1]:     # 系数变化方式（增或减）\n",
    "                wsTest = ws.copy()\n",
    "                wsTest[j] += eps*sign                   # 微调系数\n",
    "                yTest = xMat*wsTest\n",
    "                rssE = rssError(yMat.A,yTest.A)   # 计算新的误差（×.A从mat转为array）\n",
    "                if rssE < lowestError:                    # 在新误差<当前最小误差时，保存系数\n",
    "                    lowestError = rssE\n",
    "                    wsMax = wsTest                        \n",
    "        ws = wsMax.copy()\n",
    "    return ws"
   ]
  },
  {
   "cell_type": "markdown",
   "metadata": {},
   "source": [
    "在鲍鱼数据集上测试前向逐步线性回归算法"
   ]
  },
  {
   "cell_type": "code",
   "execution_count": 32,
   "metadata": {},
   "outputs": [
    {
     "name": "stdout",
     "output_type": "stream",
     "text": [
      "前向逐步线性回归计算系数为： [[ 0.043 -0.011  0.12   0.022  2.023 -0.963 -0.105  0.187]]\n",
      "标准线性回归计算系数为： [[ 0.0430442  -0.02274163  0.13214087  0.02075182  2.22403814 -0.99895312\n",
      "  -0.11725427  0.16622915]]\n"
     ]
    }
   ],
   "source": [
    "stageWeights = stageWise(xArr, yArr, 0.001, 5000)   # 前向逐步线性回归算法计算出的系数\n",
    "xMat = mat(xArr); yMat=mat(yArr).T\n",
    "xMat = regularize(xMat) \n",
    "yM = mean(yMat,0)\n",
    "yMat = yMat - yM\n",
    "ws = standRegres(xMat,yMat.T)                                    # 标准线性回归算法计算出的系数\n",
    "print('前向逐步线性回归计算系数为：', stageWeights.T)\n",
    "print('标准线性回归计算系数为：', ws.T)"
   ]
  },
  {
   "cell_type": "code",
   "execution_count": null,
   "metadata": {},
   "outputs": [],
   "source": []
  }
 ],
 "metadata": {
  "kernelspec": {
   "display_name": "Python 3",
   "language": "python",
   "name": "python3"
  },
  "language_info": {
   "codemirror_mode": {
    "name": "ipython",
    "version": 3
   },
   "file_extension": ".py",
   "mimetype": "text/x-python",
   "name": "python",
   "nbconvert_exporter": "python",
   "pygments_lexer": "ipython3",
   "version": "3.7.0"
  }
 },
 "nbformat": 4,
 "nbformat_minor": 2
}
